{
 "cells": [
  {
   "cell_type": "markdown",
   "id": "93d678e5",
   "metadata": {},
   "source": [
    "We took 3 different Approach to detect Alzheimer "
   ]
  },
  {
   "cell_type": "markdown",
   "id": "f3edf18a",
   "metadata": {},
   "source": [
    "### First Approach\n",
    "We took OASIS Questionnaire Dataset ( https://www.kaggle.com/code/ahmedghobashi/detecting-early-alzheimer-s/input ) from Kaggle and did required data cleansing.After doing some analysis and research we tried to find out which all features have direct correlations with Alzheimer Probability ( Yes or No).  We tried different regression Models and compared the Accuracy Score among different Models. Here is Accuracy Score we found between different Models. As you see among these models Logistic Regression is best Model. This is one of the best and cheap option to detect Alzheimer in earlier stage. We had built a simple UI to predict the Alzheimer probality based on questionnaire.\n",
    "\n",
    "--------------------------------------------------\n",
    "Regression Model - Linear Regression\n",
    "--------------------------------------------------\n",
    "\n",
    "Training Score 0.6296831948363727\n",
    "Testing Score  0.5670371522233935\n",
    "--------------------------------------------------\n",
    "Regression Model - KNeighbors\n",
    "--------------------------------------------------\n",
    "\n",
    "Training Score 0.2471635150166851\n",
    "Testing Score  -0.012499999999999956\n",
    "--------------------------------------------------\n",
    "Regression Model - SVR\n",
    "--------------------------------------------------\n",
    "\n",
    "Training Score -0.49993608812335566\n",
    "Testing Score  -0.4333856865131802\n",
    "--------------------------------------------------\n",
    "Regression Model - Random Forest\n",
    "--------------------------------------------------\n",
    "\n",
    "Training Score 0.9504849833147943\n",
    "Testing Score  0.6629017857142858\n",
    "\n",
    "Regression Model - Logistic Regression\n",
    "--------------------------------------------------\n",
    "\n",
    "Testing Score : 0.9333333333333333"
   ]
  },
  {
   "cell_type": "markdown",
   "id": "9c805d52",
   "metadata": {},
   "source": [
    "### Second Approach\n",
    "\n",
    "Next We had tried OASIS MRI Image and tried to find out Alzheimer tendency using MRI Image. We had used CNN model with 1 hidden Layer. We had used Relu Activation for Input and hidden layer and used Softmax Activation. We tried to find 3 different class of Alzheimer ['Mild_Demented' 'Moderate_Demented' 'Very_Mild_Demented']. We got aorund 74.08% of Accuracy. \n",
    "\n",
    "121/121 [==============================] - 1s 12ms/step - loss: 0.6267 - accuracy: 0.7408\n",
    "Test Accuracy: 74.08%"
   ]
  },
  {
   "cell_type": "markdown",
   "id": "3493ff29",
   "metadata": {},
   "source": [
    "### Third Approach \n",
    "\n",
    "We tried to use SVM Model ( Supervised Model ) using the Image. First we had tried to use Image to predict Alzheimer or Non Alzheimer ( Binary prediction ). We had tried SVM Model with different kernel and among them we found that SVM with linear Karnel has better result among them : 97.7 % \n",
    "\n",
    "Accuracy :  1.0\n",
    "Precision :  1.0\n",
    "Recall :  1.0\n",
    "f1 :  1.0\n",
    "Confusion matrix : [[2546    0]\n",
    " [   0 2574]]\n",
    "Accuracy :  0.97734375\n",
    "Precision :  0.9776\n",
    "Recall :  0.9760383386581469\n",
    "f1 :  0.9768185451638689\n",
    "Confusion matrix : [[640  14]\n",
    " [ 15 611]]\n",
    " \n",
    " Here is the result for SVM with Poly Kernel ( Degree : 2 )\n",
    " \n",
    " Accuracy :  0.8978515625\n",
    "Precision :  0.8910776361529548\n",
    "Recall :  0.9054160125588697\n",
    "f1 :  0.8981896048277204\n",
    "Confusion matrix : [[2290  282]\n",
    " [ 241 2307]]\n",
    "Accuracy :  0.834375\n",
    "Precision :  0.8459119496855346\n",
    "Recall :  0.8251533742331288\n",
    "f1 :  0.8354037267080745\n",
    "Confusion matrix : [[530  98]\n",
    " [114 538]]\n",
    " \n",
    " Here is the result with rbf kernerl\n",
    " \n",
    " Accuracy :  0.8669921875\n",
    "Precision :  0.8487112439297722\n",
    "Recall :  0.8916797488226059\n",
    "f1 :  0.8696650717703348\n",
    "Confusion matrix : [[2167  405]\n",
    " [ 276 2272]]\n",
    "Accuracy :  0.81640625\n",
    "Precision :  0.8088888888888889\n",
    "Recall :  0.8374233128834356\n",
    "f1 :  0.8229088168801808\n",
    "Confusion matrix : [[499 129]\n",
    " [106 546]]"
   ]
  },
  {
   "cell_type": "markdown",
   "id": "d3426a04",
   "metadata": {},
   "source": [
    "### Fourth approach \n",
    "\n",
    "In this approach , we had tried to predict using the same SVM model , we tried to predict different type of Alzheimer. We got pretty good test score there also. Model is present in  alzheimer-detection-and-classification-98-7-acc.ipynb under SVM_MRI_Image_processing_Model Folder. 1st part of the Program is 3rd Approach and later we did one step further and truied to predit different class of Alzheimer.\n",
    "\n",
    "Train Accuracy :  1.0\n",
    "Test Accuracy :  0.98671875"
   ]
  },
  {
   "cell_type": "markdown",
   "id": "dd2cc380",
   "metadata": {},
   "source": [
    "### Things to improve \n",
    "\n",
    "1. Improve the CNN Model to get better Accuracy \n",
    "2. Try to use some pre build CNN Model and train that Model to see if that give us good accuracy score. \n",
    "3. build an UI to use the best Model and predict different type of Alzheimer ( Where User ccvan either submit the questionnairee or ipload Image or bith).  "
   ]
  },
  {
   "cell_type": "code",
   "execution_count": null,
   "id": "6332a432",
   "metadata": {},
   "outputs": [],
   "source": []
  }
 ],
 "metadata": {
  "kernelspec": {
   "display_name": "Python 3 (ipykernel)",
   "language": "python",
   "name": "python3"
  },
  "language_info": {
   "codemirror_mode": {
    "name": "ipython",
    "version": 3
   },
   "file_extension": ".py",
   "mimetype": "text/x-python",
   "name": "python",
   "nbconvert_exporter": "python",
   "pygments_lexer": "ipython3",
   "version": "3.11.5"
  }
 },
 "nbformat": 4,
 "nbformat_minor": 5
}
